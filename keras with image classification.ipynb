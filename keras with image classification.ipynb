{
 "cells": [
  {
   "cell_type": "code",
   "execution_count": null,
   "metadata": {
    "colab": {
     "base_uri": "https://localhost:8080/"
    },
    "executionInfo": {
     "elapsed": 9248,
     "status": "ok",
     "timestamp": 1712844995462,
     "user": {
      "displayName": "Card Merik",
      "userId": "11632231336446474705"
     },
     "user_tz": -300
    },
    "id": "_3NSf3F-eXQF",
    "outputId": "de915ce8-f0f9-43f6-e6a0-eb8cee9a42f6"
   },
   "outputs": [
    {
     "name": "stdout",
     "output_type": "stream",
     "text": [
      "Downloading data from https://storage.googleapis.com/tensorflow/tf-keras-datasets/train-labels-idx1-ubyte.gz\n",
      "\u001b[1m29515/29515\u001b[0m \u001b[32m━━━━━━━━━━━━━━━━━━━━\u001b[0m\u001b[37m\u001b[0m \u001b[1m0s\u001b[0m 5us/step\n",
      "Downloading data from https://storage.googleapis.com/tensorflow/tf-keras-datasets/train-images-idx3-ubyte.gz\n",
      "\u001b[1m 4341760/26421880\u001b[0m \u001b[32m━━━\u001b[0m\u001b[37m━━━━━━━━━━━━━━━━━\u001b[0m \u001b[1m1:11\u001b[0m 3us/step"
     ]
    }
   ],
   "source": [
    "import tensorflow as tf\n",
    "fashion_mnist = tf.keras.datasets.fashion_mnist.load_data()"
   ]
  },
  {
   "cell_type": "code",
   "execution_count": 75,
   "metadata": {
    "executionInfo": {
     "elapsed": 32,
     "status": "ok",
     "timestamp": 1712845009663,
     "user": {
      "displayName": "Card Merik",
      "userId": "11632231336446474705"
     },
     "user_tz": -300
    },
    "id": "-6K0jIf4q5AW"
   },
   "outputs": [],
   "source": [
    "(x_train_full , y_train_full),(x_test,y_test) = fashion_mnist #dataset Boleklendi\n"
   ]
  },
  {
   "cell_type": "code",
   "execution_count": 76,
   "metadata": {
    "executionInfo": {
     "elapsed": 5,
     "status": "ok",
     "timestamp": 1712845026388,
     "user": {
      "displayName": "Card Merik",
      "userId": "11632231336446474705"
     },
     "user_tz": -300
    },
    "id": "zMdmHZuXrXrJ"
   },
   "outputs": [],
   "source": [
    "x_train,y_train = x_train_full[:-5000], y_train_full[:-5000]\n",
    "x_valid,y_valid = x_train_full[-5000:], y_train_full[-5000:]"
   ]
  },
  {
   "cell_type": "code",
   "execution_count": 77,
   "metadata": {
    "colab": {
     "base_uri": "https://localhost:8080/"
    },
    "executionInfo": {
     "elapsed": 8,
     "status": "ok",
     "timestamp": 1712845030761,
     "user": {
      "displayName": "Card Merik",
      "userId": "11632231336446474705"
     },
     "user_tz": -300
    },
    "id": "NNsZaG4isS-M",
    "outputId": "5270019c-a0f7-46dc-e765-ffa658a59df9"
   },
   "outputs": [
    {
     "data": {
      "text/plain": [
       "(55000, 28, 28)"
      ]
     },
     "execution_count": 77,
     "metadata": {},
     "output_type": "execute_result"
    }
   ],
   "source": [
    "x_train.dtype   #Datasetin Tipi ve contentine seredildi\n",
    "x_train.shape"
   ]
  },
  {
   "cell_type": "code",
   "execution_count": 78,
   "metadata": {
    "executionInfo": {
     "elapsed": 8,
     "status": "ok",
     "timestamp": 1712846149121,
     "user": {
      "displayName": "Card Merik",
      "userId": "11632231336446474705"
     },
     "user_tz": -300
    },
    "id": "UFuvvGwisvq8"
   },
   "outputs": [],
   "source": [
    "x_train,x_valid,x_test = x_train/255.,x_valid/255.,x_test/255.   #girdi maglumatlary 0 dan kici sana owurmek ucin 255 bolyas yagny normalizasiya"
   ]
  },
  {
   "cell_type": "code",
   "execution_count": 79,
   "metadata": {
    "executionInfo": {
     "elapsed": 1037,
     "status": "ok",
     "timestamp": 1712846153071,
     "user": {
      "displayName": "Card Merik",
      "userId": "11632231336446474705"
     },
     "user_tz": -300
    },
    "id": "a4fEXonetdt1"
   },
   "outputs": [],
   "source": [
    "class_names = [\n",
    "    \"T-shirt/top\",      #Labels\n",
    "    \"Trouser\",\n",
    "    \"Pullover\",\n",
    "    \"Dress\",\n",
    "    \"Coat\",\n",
    "    \"Sandal\",\n",
    "    \"Shirt\",\n",
    "    \"Sneaker\",\n",
    "    \"Bag\",\n",
    "    \"Adik\"\n",
    "]"
   ]
  },
  {
   "cell_type": "code",
   "execution_count": 80,
   "metadata": {
    "colab": {
     "base_uri": "https://localhost:8080/",
     "height": 36
    },
    "executionInfo": {
     "elapsed": 15,
     "status": "ok",
     "timestamp": 1712846155445,
     "user": {
      "displayName": "Card Merik",
      "userId": "11632231336446474705"
     },
     "user_tz": -300
    },
    "id": "eKhMoG1Xtjzn",
    "outputId": "5b1d48eb-0bb8-4ffd-a7de-57e98898dc55"
   },
   "outputs": [
    {
     "data": {
      "text/plain": [
       "'Adik'"
      ]
     },
     "execution_count": 80,
     "metadata": {},
     "output_type": "execute_result"
    }
   ],
   "source": [
    "class_names[y_train[0]]"
   ]
  },
  {
   "cell_type": "code",
   "execution_count": 85,
   "metadata": {
    "executionInfo": {
     "elapsed": 4,
     "status": "ok",
     "timestamp": 1712846156052,
     "user": {
      "displayName": "Card Merik",
      "userId": "11632231336446474705"
     },
     "user_tz": -300
    },
    "id": "-n9bnaIVuq_n"
   },
   "outputs": [
    {
     "name": "stdout",
     "output_type": "stream",
     "text": [
      "Model Creating...\n",
      " Gatlak funksiyasy: relu\n",
      " Gatlagyn Nerony: 400\n",
      " Gatlak funksiyasy: relu\n",
      " Gatlagyn Nerony: 101\n",
      " Gatlak funksiyasy: softmax\n",
      " Gatlagyn Nerony: 10\n",
      "Model: \"sequential_15\"\n",
      "_________________________________________________________________\n",
      " Layer (type)                Output Shape              Param #   \n",
      "=================================================================\n",
      " dense_21 (Dense)            (None, 28, 400)           11600     \n",
      "                                                                 \n",
      " dense_22 (Dense)            (None, 28, 101)           40501     \n",
      "                                                                 \n",
      " dense_23 (Dense)            (None, 28, 10)            1020      \n",
      "                                                                 \n",
      "=================================================================\n",
      "Total params: 53121 (207.50 KB)\n",
      "Trainable params: 53121 (207.50 KB)\n",
      "Non-trainable params: 0 (0.00 Byte)\n",
      "_________________________________________________________________\n",
      "Model: \"sequential_11\"\n",
      "_________________________________________________________________\n",
      " Layer (type)                Output Shape              Param #   \n",
      "=================================================================\n",
      " flatten_1 (Flatten)         (None, 784)               0         \n",
      "                                                                 \n",
      " dense_9 (Dense)             (None, 300)               235500    \n",
      "                                                                 \n",
      " dense_10 (Dense)            (None, 100)               30100     \n",
      "                                                                 \n",
      " dense_11 (Dense)            (None, 10)                1010      \n",
      "                                                                 \n",
      "=================================================================\n",
      "Total params: 266610 (1.02 MB)\n",
      "Trainable params: 266610 (1.02 MB)\n",
      "Non-trainable params: 0 (0.00 Byte)\n",
      "_________________________________________________________________\n"
     ]
    }
   ],
   "source": [
    "    \n",
    "\n",
    "\n",
    "\n",
    "#tf.random.set_seed(42) #randomlyk sazlanyar\n",
    "#model = tf.keras.Sequential()# model doredilyar\n",
    "#model.add(tf.keras.layers.Input(shape=[28,28]))  #modele maglumatyn boyutu aydylyar\n",
    "#model.add(tf.keras.layers.Flatten()) #modele verileri 1 boyutlu dizi cevirmek\n",
    "#model.add(tf.keras.layers.Dense(300,activation=\"relu\"))     #300 neronly gizlin gatlak doredilyar\n",
    "#model.add(tf.keras.layers.Dense(100,activation=\"relu\"))     #100 neronly yene bir gizlin gatlak doredilyar            relu yada softmax aktivasion funksiyasydyr neurona gelen girdirleri\n",
    "#model.add(tf.keras.layers.Dense(10,activation=\"softmax\"))   #10  neronly cykys gatlagy doredilyar                     donusum saglayarak bir cikti elde eder relu 0 dan kici verileri 0 a\n",
    "                                                                                                                      # 0 dan uly degerleri kendisine gotururu cykdy katmanlardaky\n",
    "                                                                                                                      # neron sany klassyna gora uytgeya bizinkide 10 sany klass barlygy\n",
    "                                                                                                                      #sebabli 10 neron yazyaz cykdy katmanyndaky datalar siniflandirma\n",
    "class model_sazlamak():\n",
    "    def __init__(self):\n",
    "        print(\"Model Creating...\")\n",
    "        \n",
    "    def model_config(self,randomluk=\"Enter Data\",boyut=[\"Enter Data\"],gatlak_san=\"Enter Data\"): \n",
    "        self.randomluk = randomluk\n",
    "        self.boyut = boyut\n",
    "        tf.random.set_seed(randomluk)\n",
    "        model = tf.keras.Sequential()\n",
    "        model.add(tf.keras.layers.Input(shape=boyut))\n",
    "        self.gatlak_san = gatlak_san\n",
    "        \n",
    "        \n",
    "        \n",
    "        for i in range(gatlak_san):\n",
    "           \n",
    "            gatlak_funksiya = input(\" Gatlak funksiyasy: \")\n",
    "            neron_sany = input(\" Gatlagyn Nerony: \")\n",
    "            model.add(tf.keras.layers.Dense(neron_sany,activation=gatlak_funksiya))\n",
    "            \n",
    "        model.summary()   \n",
    "            \n",
    "           \n",
    "           \n",
    "sazlamalar = model_sazlamak()\n",
    "sazlamalar.model_config(randomluk=42,boyut=[28,28],gatlak_san=3)  \n"
   ]
  },
  {
   "cell_type": "code",
   "execution_count": 83,
   "metadata": {},
   "outputs": [
    {
     "name": "stdout",
     "output_type": "stream",
     "text": [
      "Model: \"sequential_11\"\n",
      "_________________________________________________________________\n",
      " Layer (type)                Output Shape              Param #   \n",
      "=================================================================\n",
      " flatten_1 (Flatten)         (None, 784)               0         \n",
      "                                                                 \n",
      " dense_9 (Dense)             (None, 300)               235500    \n",
      "                                                                 \n",
      " dense_10 (Dense)            (None, 100)               30100     \n",
      "                                                                 \n",
      " dense_11 (Dense)            (None, 10)                1010      \n",
      "                                                                 \n",
      "=================================================================\n",
      "Total params: 266610 (1.02 MB)\n",
      "Trainable params: 266610 (1.02 MB)\n",
      "Non-trainable params: 0 (0.00 Byte)\n",
      "_________________________________________________________________\n"
     ]
    }
   ],
   "source": [
    "model"
   ]
  },
  {
   "cell_type": "markdown",
   "metadata": {},
   "source": []
  },
  {
   "cell_type": "code",
   "execution_count": 72,
   "metadata": {
    "executionInfo": {
     "elapsed": 1494,
     "status": "ok",
     "timestamp": 1712846627159,
     "user": {
      "displayName": "Card Merik",
      "userId": "11632231336446474705"
     },
     "user_tz": -300
    },
    "id": "N-EVaxraymzN"
   },
   "outputs": [],
   "source": [
    "model = tf.keras.Sequential([tf.keras.layers.Flatten(input_shape=[28,28]),\n",
    "                             tf.keras.layers.Dense(300,activation=\"relu\"),\n",
    "                             tf.keras.layers.Dense(100,activation=\"relu\"),\n",
    "                             tf.keras.layers.Dense(10,activation=\"softmax\")])\n",
    "\n",
    "\n"
   ]
  },
  {
   "cell_type": "code",
   "execution_count": 73,
   "metadata": {
    "colab": {
     "base_uri": "https://localhost:8080/"
    },
    "executionInfo": {
     "elapsed": 15,
     "status": "ok",
     "timestamp": 1712846637944,
     "user": {
      "displayName": "Card Merik",
      "userId": "11632231336446474705"
     },
     "user_tz": -300
    },
    "id": "_tviWT-bnWos",
    "outputId": "0d906b16-0147-43d7-a75a-c4c0566e51b8"
   },
   "outputs": [
    {
     "name": "stdout",
     "output_type": "stream",
     "text": [
      "Model: \"sequential_11\"\n",
      "_________________________________________________________________\n",
      " Layer (type)                Output Shape              Param #   \n",
      "=================================================================\n",
      " flatten_1 (Flatten)         (None, 784)               0         \n",
      "                                                                 \n",
      " dense_9 (Dense)             (None, 300)               235500    \n",
      "                                                                 \n",
      " dense_10 (Dense)            (None, 100)               30100     \n",
      "                                                                 \n",
      " dense_11 (Dense)            (None, 10)                1010      \n",
      "                                                                 \n",
      "=================================================================\n",
      "Total params: 266610 (1.02 MB)\n",
      "Trainable params: 266610 (1.02 MB)\n",
      "Non-trainable params: 0 (0.00 Byte)\n",
      "_________________________________________________________________\n"
     ]
    }
   ],
   "source": [
    "model.summary()   #modelin gurlusyny gormek ucin summary metody"
   ]
  },
  {
   "cell_type": "code",
   "execution_count": 11,
   "metadata": {
    "colab": {
     "base_uri": "https://localhost:8080/"
    },
    "executionInfo": {
     "elapsed": 7,
     "status": "ok",
     "timestamp": 1712846757854,
     "user": {
      "displayName": "Card Merik",
      "userId": "11632231336446474705"
     },
     "user_tz": -300
    },
    "id": "6OUIjrsznzwj",
    "outputId": "0e8f39dc-8840-4f94-ec31-c1bfd3d676df"
   },
   "outputs": [
    {
     "data": {
      "text/plain": [
       "[<keras.src.layers.reshaping.flatten.Flatten at 0x26ddf17f6d0>,\n",
       " <keras.src.layers.core.dense.Dense at 0x26dc4848a90>,\n",
       " <keras.src.layers.core.dense.Dense at 0x26dc48487d0>,\n",
       " <keras.src.layers.core.dense.Dense at 0x26dc4850650>]"
      ]
     },
     "execution_count": 11,
     "metadata": {},
     "output_type": "execute_result"
    }
   ],
   "source": [
    "model.layers   #modeldakigatlaklary gormek"
   ]
  },
  {
   "cell_type": "code",
   "execution_count": 12,
   "metadata": {
    "colab": {
     "base_uri": "https://localhost:8080/"
    },
    "executionInfo": {
     "elapsed": 5,
     "status": "ok",
     "timestamp": 1712847003615,
     "user": {
      "displayName": "Card Merik",
      "userId": "11632231336446474705"
     },
     "user_tz": -300
    },
    "id": "468pDuMvoKz_",
    "outputId": "958e9437-ce5b-482f-ec69-6e71299c20cd"
   },
   "outputs": [
    {
     "data": {
      "text/plain": [
       "array([[-0.04794661, -0.03310137,  0.04431304, ...,  0.00261064,\n",
       "        -0.05012416,  0.06182449],\n",
       "       [ 0.03383107, -0.01591621, -0.04643637, ..., -0.03095679,\n",
       "        -0.01285546, -0.06831903],\n",
       "       [-0.01911644,  0.06688508, -0.03288753, ...,  0.06037898,\n",
       "        -0.00731839,  0.06429483],\n",
       "       ...,\n",
       "       [ 0.00835231,  0.01542605, -0.07049058, ...,  0.04345459,\n",
       "         0.00896542, -0.04872404],\n",
       "       [ 0.02060138,  0.05360714,  0.05057066, ...,  0.02134543,\n",
       "        -0.02493492,  0.00180667],\n",
       "       [ 0.02243192, -0.06469376,  0.03604866, ...,  0.01938833,\n",
       "         0.01398587,  0.03799917]], dtype=float32)"
      ]
     },
     "execution_count": 12,
     "metadata": {},
     "output_type": "execute_result"
    }
   ],
   "source": [
    "hidden1 = model.layers[1]\n",
    "weights , biases = hidden1.get_weights()\n",
    "weights"
   ]
  },
  {
   "cell_type": "code",
   "execution_count": 13,
   "metadata": {
    "colab": {
     "base_uri": "https://localhost:8080/"
    },
    "executionInfo": {
     "elapsed": 6,
     "status": "ok",
     "timestamp": 1712847106717,
     "user": {
      "displayName": "Card Merik",
      "userId": "11632231336446474705"
     },
     "user_tz": -300
    },
    "id": "Woy9a_3spJjS",
    "outputId": "453e7ac6-d905-4acb-8c1b-373b34908007"
   },
   "outputs": [
    {
     "data": {
      "text/plain": [
       "array([0., 0., 0., 0., 0., 0., 0., 0., 0., 0., 0., 0., 0., 0., 0., 0., 0.,\n",
       "       0., 0., 0., 0., 0., 0., 0., 0., 0., 0., 0., 0., 0., 0., 0., 0., 0.,\n",
       "       0., 0., 0., 0., 0., 0., 0., 0., 0., 0., 0., 0., 0., 0., 0., 0., 0.,\n",
       "       0., 0., 0., 0., 0., 0., 0., 0., 0., 0., 0., 0., 0., 0., 0., 0., 0.,\n",
       "       0., 0., 0., 0., 0., 0., 0., 0., 0., 0., 0., 0., 0., 0., 0., 0., 0.,\n",
       "       0., 0., 0., 0., 0., 0., 0., 0., 0., 0., 0., 0., 0., 0., 0., 0., 0.,\n",
       "       0., 0., 0., 0., 0., 0., 0., 0., 0., 0., 0., 0., 0., 0., 0., 0., 0.,\n",
       "       0., 0., 0., 0., 0., 0., 0., 0., 0., 0., 0., 0., 0., 0., 0., 0., 0.,\n",
       "       0., 0., 0., 0., 0., 0., 0., 0., 0., 0., 0., 0., 0., 0., 0., 0., 0.,\n",
       "       0., 0., 0., 0., 0., 0., 0., 0., 0., 0., 0., 0., 0., 0., 0., 0., 0.,\n",
       "       0., 0., 0., 0., 0., 0., 0., 0., 0., 0., 0., 0., 0., 0., 0., 0., 0.,\n",
       "       0., 0., 0., 0., 0., 0., 0., 0., 0., 0., 0., 0., 0., 0., 0., 0., 0.,\n",
       "       0., 0., 0., 0., 0., 0., 0., 0., 0., 0., 0., 0., 0., 0., 0., 0., 0.,\n",
       "       0., 0., 0., 0., 0., 0., 0., 0., 0., 0., 0., 0., 0., 0., 0., 0., 0.,\n",
       "       0., 0., 0., 0., 0., 0., 0., 0., 0., 0., 0., 0., 0., 0., 0., 0., 0.,\n",
       "       0., 0., 0., 0., 0., 0., 0., 0., 0., 0., 0., 0., 0., 0., 0., 0., 0.,\n",
       "       0., 0., 0., 0., 0., 0., 0., 0., 0., 0., 0., 0., 0., 0., 0., 0., 0.,\n",
       "       0., 0., 0., 0., 0., 0., 0., 0., 0., 0., 0.], dtype=float32)"
      ]
     },
     "execution_count": 13,
     "metadata": {},
     "output_type": "execute_result"
    }
   ],
   "source": [
    "biases"
   ]
  },
  {
   "cell_type": "markdown",
   "metadata": {
    "id": "X3zukjeAvIXb"
   },
   "source": []
  },
  {
   "cell_type": "code",
   "execution_count": 14,
   "metadata": {},
   "outputs": [],
   "source": [
    "model.compile(loss=\"sparse_categorical_crossentropy\",\n",
    "             optimizer = \"sgd\",\n",
    "             metrics= [\"accuracy\"])   #model 2 li siniflandirma yada cok etiketli ikili sinifilandirma olsaydi \n",
    "                                                        #sigmoid ve binary_crossentropy goymaly bolardy"
   ]
  },
  {
   "cell_type": "code",
   "execution_count": 15,
   "metadata": {},
   "outputs": [
    {
     "name": "stdout",
     "output_type": "stream",
     "text": [
      "Epoch 1/40\n",
      "1719/1719 [==============================] - 9s 4ms/step - loss: 0.7027 - accuracy: 0.7706 - val_loss: 0.4981 - val_accuracy: 0.8316\n",
      "Epoch 2/40\n",
      "1719/1719 [==============================] - 9s 5ms/step - loss: 0.4823 - accuracy: 0.8327 - val_loss: 0.4545 - val_accuracy: 0.8352\n",
      "Epoch 3/40\n",
      "1719/1719 [==============================] - 10s 6ms/step - loss: 0.4364 - accuracy: 0.8459 - val_loss: 0.4218 - val_accuracy: 0.8522\n",
      "Epoch 4/40\n",
      "1719/1719 [==============================] - 10s 6ms/step - loss: 0.4118 - accuracy: 0.8547 - val_loss: 0.3960 - val_accuracy: 0.8590\n",
      "Epoch 5/40\n",
      "1719/1719 [==============================] - 7s 4ms/step - loss: 0.3908 - accuracy: 0.8627 - val_loss: 0.3907 - val_accuracy: 0.8572\n",
      "Epoch 6/40\n",
      "1719/1719 [==============================] - 9s 5ms/step - loss: 0.3739 - accuracy: 0.8670 - val_loss: 0.3919 - val_accuracy: 0.8594\n",
      "Epoch 7/40\n",
      "1719/1719 [==============================] - 10s 6ms/step - loss: 0.3614 - accuracy: 0.8709 - val_loss: 0.3725 - val_accuracy: 0.8680\n",
      "Epoch 8/40\n",
      "1719/1719 [==============================] - 9s 5ms/step - loss: 0.3499 - accuracy: 0.8755 - val_loss: 0.3712 - val_accuracy: 0.8636\n",
      "Epoch 9/40\n",
      "1719/1719 [==============================] - 8s 5ms/step - loss: 0.3386 - accuracy: 0.8798 - val_loss: 0.3472 - val_accuracy: 0.8724\n",
      "Epoch 10/40\n",
      "1719/1719 [==============================] - 9s 5ms/step - loss: 0.3289 - accuracy: 0.8827 - val_loss: 0.3475 - val_accuracy: 0.8736\n",
      "Epoch 11/40\n",
      "1719/1719 [==============================] - 10s 6ms/step - loss: 0.3202 - accuracy: 0.8854 - val_loss: 0.3671 - val_accuracy: 0.8668\n",
      "Epoch 12/40\n",
      "1719/1719 [==============================] - 8s 4ms/step - loss: 0.3127 - accuracy: 0.8873 - val_loss: 0.3444 - val_accuracy: 0.8740\n",
      "Epoch 13/40\n",
      "1719/1719 [==============================] - 7s 4ms/step - loss: 0.3056 - accuracy: 0.8912 - val_loss: 0.3235 - val_accuracy: 0.8798\n",
      "Epoch 14/40\n",
      "1719/1719 [==============================] - 5s 3ms/step - loss: 0.2983 - accuracy: 0.8929 - val_loss: 0.3348 - val_accuracy: 0.8782\n",
      "Epoch 15/40\n",
      "1719/1719 [==============================] - 5s 3ms/step - loss: 0.2924 - accuracy: 0.8959 - val_loss: 0.3342 - val_accuracy: 0.8818\n",
      "Epoch 16/40\n",
      "1719/1719 [==============================] - 10s 6ms/step - loss: 0.2849 - accuracy: 0.8971 - val_loss: 0.3249 - val_accuracy: 0.8792\n",
      "Epoch 17/40\n",
      "1719/1719 [==============================] - 9s 5ms/step - loss: 0.2803 - accuracy: 0.8985 - val_loss: 0.3274 - val_accuracy: 0.8780\n",
      "Epoch 18/40\n",
      "1719/1719 [==============================] - 10s 6ms/step - loss: 0.2740 - accuracy: 0.9013 - val_loss: 0.3175 - val_accuracy: 0.8846\n",
      "Epoch 19/40\n",
      "1719/1719 [==============================] - 7s 4ms/step - loss: 0.2694 - accuracy: 0.9028 - val_loss: 0.3393 - val_accuracy: 0.8728\n",
      "Epoch 20/40\n",
      "1719/1719 [==============================] - 10s 6ms/step - loss: 0.2647 - accuracy: 0.9049 - val_loss: 0.3169 - val_accuracy: 0.8836\n",
      "Epoch 21/40\n",
      "1719/1719 [==============================] - 5s 3ms/step - loss: 0.2591 - accuracy: 0.9066 - val_loss: 0.3108 - val_accuracy: 0.8870\n",
      "Epoch 22/40\n",
      "1719/1719 [==============================] - 7s 4ms/step - loss: 0.2539 - accuracy: 0.9080 - val_loss: 0.3119 - val_accuracy: 0.8842\n",
      "Epoch 23/40\n",
      "1719/1719 [==============================] - 8s 4ms/step - loss: 0.2499 - accuracy: 0.9103 - val_loss: 0.3364 - val_accuracy: 0.8708\n",
      "Epoch 24/40\n",
      "1719/1719 [==============================] - 7s 4ms/step - loss: 0.2446 - accuracy: 0.9119 - val_loss: 0.3153 - val_accuracy: 0.8860\n",
      "Epoch 25/40\n",
      "1719/1719 [==============================] - 5s 3ms/step - loss: 0.2409 - accuracy: 0.9130 - val_loss: 0.3159 - val_accuracy: 0.8852\n",
      "Epoch 26/40\n",
      "1719/1719 [==============================] - 6s 3ms/step - loss: 0.2371 - accuracy: 0.9147 - val_loss: 0.3077 - val_accuracy: 0.8872\n",
      "Epoch 27/40\n",
      "1719/1719 [==============================] - 6s 3ms/step - loss: 0.2318 - accuracy: 0.9168 - val_loss: 0.3229 - val_accuracy: 0.8858\n",
      "Epoch 28/40\n",
      "1719/1719 [==============================] - 6s 3ms/step - loss: 0.2290 - accuracy: 0.9171 - val_loss: 0.3164 - val_accuracy: 0.8874\n",
      "Epoch 29/40\n",
      "1719/1719 [==============================] - 4s 3ms/step - loss: 0.2247 - accuracy: 0.9189 - val_loss: 0.3152 - val_accuracy: 0.8856\n",
      "Epoch 30/40\n",
      "1719/1719 [==============================] - 9s 5ms/step - loss: 0.2213 - accuracy: 0.9210 - val_loss: 0.3048 - val_accuracy: 0.8892\n",
      "Epoch 31/40\n",
      "1719/1719 [==============================] - 4s 3ms/step - loss: 0.2166 - accuracy: 0.9223 - val_loss: 0.3181 - val_accuracy: 0.8896\n",
      "Epoch 32/40\n",
      "1719/1719 [==============================] - 5s 3ms/step - loss: 0.2143 - accuracy: 0.9230 - val_loss: 0.3024 - val_accuracy: 0.8908\n",
      "Epoch 33/40\n",
      "1719/1719 [==============================] - 5s 3ms/step - loss: 0.2104 - accuracy: 0.9251 - val_loss: 0.3443 - val_accuracy: 0.8762\n",
      "Epoch 34/40\n",
      "1719/1719 [==============================] - 6s 3ms/step - loss: 0.2063 - accuracy: 0.9265 - val_loss: 0.3032 - val_accuracy: 0.8888\n",
      "Epoch 35/40\n",
      "1719/1719 [==============================] - 7s 4ms/step - loss: 0.2028 - accuracy: 0.9281 - val_loss: 0.3026 - val_accuracy: 0.8908\n",
      "Epoch 36/40\n",
      "1719/1719 [==============================] - 4s 3ms/step - loss: 0.2002 - accuracy: 0.9275 - val_loss: 0.3061 - val_accuracy: 0.8874\n",
      "Epoch 37/40\n",
      "1719/1719 [==============================] - 5s 3ms/step - loss: 0.1970 - accuracy: 0.9303 - val_loss: 0.3183 - val_accuracy: 0.8866\n",
      "Epoch 38/40\n",
      "1719/1719 [==============================] - 9s 5ms/step - loss: 0.1938 - accuracy: 0.9313 - val_loss: 0.3127 - val_accuracy: 0.8888\n",
      "Epoch 39/40\n",
      "1719/1719 [==============================] - 6s 4ms/step - loss: 0.1900 - accuracy: 0.9315 - val_loss: 0.2991 - val_accuracy: 0.8916\n",
      "Epoch 40/40\n",
      "1719/1719 [==============================] - 8s 5ms/step - loss: 0.1867 - accuracy: 0.9341 - val_loss: 0.3020 - val_accuracy: 0.8928\n"
     ]
    }
   ],
   "source": [
    "history = model.fit(x_train,y_train,epochs=40, validation_data=(x_valid,y_valid)) #egerde valid goyulmadyk bolsa valid_split\n",
    "                                                                                    #bilen train data valid bilen boluner\n",
    "#modelin validation dogrulygy egitim dogrulygyndan pesde bolsa modelde yat tutma problem bar diymek\n",
    "#arasynda uly parh bolmasa kan zyyany yok"
   ]
  },
  {
   "cell_type": "code",
   "execution_count": 24,
   "metadata": {},
   "outputs": [
    {
     "name": "stdout",
     "output_type": "stream",
     "text": [
      "Epoch 1/40\n",
      "1719/1719 [==============================] - 7s 4ms/step - loss: 0.2188 - accuracy: 0.9218 - val_loss: 0.3304 - val_accuracy: 0.8780\n",
      "Epoch 2/40\n",
      "1719/1719 [==============================] - 8s 5ms/step - loss: 0.2165 - accuracy: 0.9225 - val_loss: 0.3135 - val_accuracy: 0.8848\n",
      "Epoch 3/40\n",
      "1719/1719 [==============================] - 5s 3ms/step - loss: 0.2114 - accuracy: 0.9238 - val_loss: 0.3154 - val_accuracy: 0.8876\n",
      "Epoch 4/40\n",
      "1719/1719 [==============================] - 5s 3ms/step - loss: 0.2099 - accuracy: 0.9257 - val_loss: 0.3049 - val_accuracy: 0.8904\n",
      "Epoch 5/40\n",
      "1719/1719 [==============================] - 9s 5ms/step - loss: 0.2061 - accuracy: 0.9262 - val_loss: 0.3064 - val_accuracy: 0.8874\n",
      "Epoch 6/40\n",
      "1719/1719 [==============================] - 6s 3ms/step - loss: 0.2018 - accuracy: 0.9286 - val_loss: 0.3286 - val_accuracy: 0.8858\n",
      "Epoch 7/40\n",
      "1719/1719 [==============================] - 10s 6ms/step - loss: 0.1999 - accuracy: 0.9280 - val_loss: 0.3155 - val_accuracy: 0.8922\n",
      "Epoch 8/40\n",
      "1719/1719 [==============================] - 9s 5ms/step - loss: 0.1965 - accuracy: 0.9295 - val_loss: 0.3065 - val_accuracy: 0.8904\n",
      "Epoch 9/40\n",
      "1719/1719 [==============================] - 9s 5ms/step - loss: 0.1939 - accuracy: 0.9304 - val_loss: 0.3027 - val_accuracy: 0.8902\n",
      "Epoch 10/40\n",
      "1719/1719 [==============================] - 10s 6ms/step - loss: 0.1905 - accuracy: 0.9317 - val_loss: 0.3237 - val_accuracy: 0.8862\n",
      "Epoch 11/40\n",
      "1719/1719 [==============================] - 6s 4ms/step - loss: 0.1868 - accuracy: 0.9335 - val_loss: 0.3132 - val_accuracy: 0.8886\n",
      "Epoch 12/40\n",
      "1719/1719 [==============================] - 5s 3ms/step - loss: 0.1846 - accuracy: 0.9333 - val_loss: 0.3033 - val_accuracy: 0.8902\n",
      "Epoch 13/40\n",
      "1719/1719 [==============================] - 6s 4ms/step - loss: 0.1815 - accuracy: 0.9362 - val_loss: 0.2991 - val_accuracy: 0.8922\n",
      "Epoch 14/40\n",
      "1719/1719 [==============================] - 9s 5ms/step - loss: 0.1786 - accuracy: 0.9369 - val_loss: 0.3138 - val_accuracy: 0.8924\n",
      "Epoch 15/40\n",
      "1719/1719 [==============================] - 6s 3ms/step - loss: 0.1756 - accuracy: 0.9379 - val_loss: 0.3211 - val_accuracy: 0.8900\n",
      "Epoch 16/40\n",
      "1719/1719 [==============================] - 9s 5ms/step - loss: 0.1725 - accuracy: 0.9389 - val_loss: 0.3320 - val_accuracy: 0.8856\n",
      "Epoch 17/40\n",
      "1719/1719 [==============================] - 8s 5ms/step - loss: 0.1702 - accuracy: 0.9395 - val_loss: 0.3173 - val_accuracy: 0.8890\n",
      "Epoch 18/40\n",
      "1719/1719 [==============================] - 11s 6ms/step - loss: 0.1669 - accuracy: 0.9407 - val_loss: 0.3147 - val_accuracy: 0.8910\n",
      "Epoch 19/40\n",
      "1719/1719 [==============================] - 8s 5ms/step - loss: 0.1657 - accuracy: 0.9411 - val_loss: 0.3488 - val_accuracy: 0.8784\n",
      "Epoch 20/40\n",
      "1719/1719 [==============================] - 10s 6ms/step - loss: 0.1620 - accuracy: 0.9427 - val_loss: 0.3139 - val_accuracy: 0.8900\n",
      "Epoch 21/40\n",
      "1719/1719 [==============================] - 8s 5ms/step - loss: 0.1594 - accuracy: 0.9431 - val_loss: 0.3113 - val_accuracy: 0.8922\n",
      "Epoch 22/40\n",
      "1719/1719 [==============================] - 10s 6ms/step - loss: 0.1579 - accuracy: 0.9433 - val_loss: 0.3221 - val_accuracy: 0.8904\n",
      "Epoch 23/40\n",
      "1719/1719 [==============================] - 10s 6ms/step - loss: 0.1548 - accuracy: 0.9448 - val_loss: 0.3528 - val_accuracy: 0.8776\n",
      "Epoch 24/40\n",
      "1719/1719 [==============================] - 9s 5ms/step - loss: 0.1529 - accuracy: 0.9459 - val_loss: 0.3160 - val_accuracy: 0.8944\n",
      "Epoch 25/40\n",
      "1719/1719 [==============================] - 8s 4ms/step - loss: 0.1502 - accuracy: 0.9470 - val_loss: 0.3292 - val_accuracy: 0.8892\n",
      "Epoch 26/40\n",
      "1719/1719 [==============================] - 9s 5ms/step - loss: 0.1480 - accuracy: 0.9489 - val_loss: 0.3264 - val_accuracy: 0.8910\n",
      "Epoch 27/40\n",
      "1719/1719 [==============================] - 9s 5ms/step - loss: 0.1442 - accuracy: 0.9495 - val_loss: 0.3243 - val_accuracy: 0.8914\n",
      "Epoch 28/40\n",
      "1719/1719 [==============================] - 9s 5ms/step - loss: 0.1430 - accuracy: 0.9498 - val_loss: 0.3185 - val_accuracy: 0.8946\n",
      "Epoch 29/40\n",
      "1719/1719 [==============================] - 8s 5ms/step - loss: 0.1403 - accuracy: 0.9503 - val_loss: 0.3532 - val_accuracy: 0.8836\n",
      "Epoch 30/40\n",
      "1719/1719 [==============================] - 9s 5ms/step - loss: 0.1386 - accuracy: 0.9512 - val_loss: 0.3226 - val_accuracy: 0.8904\n",
      "Epoch 31/40\n",
      "1719/1719 [==============================] - 9s 5ms/step - loss: 0.1352 - accuracy: 0.9531 - val_loss: 0.3503 - val_accuracy: 0.8854\n",
      "Epoch 32/40\n",
      "1719/1719 [==============================] - 9s 5ms/step - loss: 0.1356 - accuracy: 0.9526 - val_loss: 0.3262 - val_accuracy: 0.8912\n",
      "Epoch 33/40\n",
      "1719/1719 [==============================] - 6s 3ms/step - loss: 0.1318 - accuracy: 0.9539 - val_loss: 0.3332 - val_accuracy: 0.8916\n",
      "Epoch 34/40\n",
      "1719/1719 [==============================] - 5s 3ms/step - loss: 0.1290 - accuracy: 0.9547 - val_loss: 0.3328 - val_accuracy: 0.8898\n",
      "Epoch 35/40\n",
      "1719/1719 [==============================] - 5s 3ms/step - loss: 0.1261 - accuracy: 0.9567 - val_loss: 0.3194 - val_accuracy: 0.8954\n",
      "Epoch 36/40\n",
      "1719/1719 [==============================] - 6s 4ms/step - loss: 0.1251 - accuracy: 0.9561 - val_loss: 0.3327 - val_accuracy: 0.8904\n",
      "Epoch 37/40\n",
      "1719/1719 [==============================] - 9s 5ms/step - loss: 0.1237 - accuracy: 0.9560 - val_loss: 0.3619 - val_accuracy: 0.8838\n",
      "Epoch 38/40\n",
      "1719/1719 [==============================] - 8s 4ms/step - loss: 0.1220 - accuracy: 0.9568 - val_loss: 0.3451 - val_accuracy: 0.8890\n",
      "Epoch 39/40\n",
      "1719/1719 [==============================] - 7s 4ms/step - loss: 0.1191 - accuracy: 0.9585 - val_loss: 0.3397 - val_accuracy: 0.8916\n",
      "Epoch 40/40\n",
      "1719/1719 [==============================] - 7s 4ms/step - loss: 0.1174 - accuracy: 0.9594 - val_loss: 0.3339 - val_accuracy: 0.8948\n"
     ]
    }
   ],
   "source": [
    "history1 = model.fit(x_train,y_train,epochs=40, validation_data=(x_valid,y_valid)) #egerde valid goyulmadyk bolsa valid_split\n",
    "                                                                                    #bilen egitim verisi valid bilen boluner\n",
    "#modelin validation dogrulygy egitim dogrulygyndan pesde bolsa modelde ezberleme sorunu bar diymek\n",
    "#arasynda uly parh bolmasa kan zyyany yok"
   ]
  },
  {
   "cell_type": "code",
   "execution_count": 18,
   "metadata": {},
   "outputs": [],
   "source": [
    "import matplotlib.pyplot as plt   #modelin grafikasy\n",
    "import pandas as pd"
   ]
  },
  {
   "cell_type": "code",
   "execution_count": 26,
   "metadata": {},
   "outputs": [
    {
     "data": {
      "image/png": "[encoded data removed]",
      "text/plain": [
       "<Figure size 800x500 with 1 Axes>"
      ]
     },
     "metadata": {},
     "output_type": "display_data"
    }
   ],
   "source": [
    "pd.DataFrame(history.history).plot(figsize=(8,5),\n",
    "                                   xlim=[0,29],\n",
    "                                   ylim=[0,1],\n",
    "                                   grid=True,\n",
    "                                   xlabel=\"Epochs\",\n",
    "                                   style=[\"r--\",\"r--.\",\"b-\",\"b-*\"])\n",
    "plt.show()"
   ]
  },
  {
   "cell_type": "code",
   "execution_count": 27,
   "metadata": {},
   "outputs": [
    {
     "name": "stdout",
     "output_type": "stream",
     "text": [
      "313/313 [==============================] - 2s 5ms/step - loss: 0.3479 - accuracy: 0.8929\n"
     ]
    },
    {
     "data": {
      "text/plain": [
       "[0.3479000926017761, 0.8928999900817871]"
      ]
     },
     "execution_count": 27,
     "metadata": {},
     "output_type": "execute_result"
    }
   ],
   "source": [
    "model.evaluate(x_test,y_test)          #modeli test datalary bilen synlamak"
   ]
  },
  {
   "cell_type": "code",
   "execution_count": 33,
   "metadata": {},
   "outputs": [
    {
     "data": {
      "text/plain": [
       "(3, 28, 28)"
      ]
     },
     "execution_count": 33,
     "metadata": {},
     "output_type": "execute_result"
    }
   ],
   "source": [
    "test3 = x_test[:3]                     #modelin ilkinji 3 maglumatynyb almak\n",
    "test3.shape\n",
    "\n"
   ]
  },
  {
   "cell_type": "code",
   "execution_count": 34,
   "metadata": {},
   "outputs": [
    {
     "name": "stdout",
     "output_type": "stream",
     "text": [
      "1/1 [==============================] - 0s 317ms/step\n"
     ]
    }
   ],
   "source": [
    "y_proba_predict = model.predict(test3)   #modeli predict etmek"
   ]
  },
  {
   "cell_type": "code",
   "execution_count": 35,
   "metadata": {},
   "outputs": [
    {
     "data": {
      "text/plain": [
       "array([[0., 0., 0., 0., 0., 0., 0., 0., 0., 1.],\n",
       "       [0., 0., 1., 0., 0., 0., 0., 0., 0., 0.],\n",
       "       [0., 1., 0., 0., 0., 0., 0., 0., 0., 0.]], dtype=float32)"
      ]
     },
     "execution_count": 35,
     "metadata": {},
     "output_type": "execute_result"
    }
   ],
   "source": [
    "y_proba_predict.round(2)     #modelin predictini togalamak"
   ]
  },
  {
   "cell_type": "code",
   "execution_count": 36,
   "metadata": {},
   "outputs": [
    {
     "name": "stdout",
     "output_type": "stream",
     "text": [
      "1/1 [==============================] - 0s 56ms/step\n"
     ]
    }
   ],
   "source": [
    "test1 = x_test[:1]\n",
    "taze_proba = model.predict(test1)"
   ]
  },
  {
   "cell_type": "code",
   "execution_count": 37,
   "metadata": {},
   "outputs": [
    {
     "data": {
      "text/plain": [
       "array([[1.3736381e-07, 7.8775511e-09, 1.2888917e-06, 1.4565759e-08,\n",
       "        1.0604792e-08, 9.9028424e-05, 2.1530298e-07, 8.0843375e-04,\n",
       "        6.9381184e-07, 9.9909019e-01]], dtype=float32)"
      ]
     },
     "execution_count": 37,
     "metadata": {},
     "output_type": "execute_result"
    }
   ],
   "source": [
    "taze_proba"
   ]
  },
  {
   "cell_type": "code",
   "execution_count": 39,
   "metadata": {},
   "outputs": [],
   "source": [
    "yeke_massiwli_predict = taze_proba.round(2)"
   ]
  },
  {
   "cell_type": "code",
   "execution_count": 47,
   "metadata": {},
   "outputs": [
    {
     "data": {
      "text/plain": [
       "array([[0., 0., 0., 0., 0., 0., 0., 0., 0., 1.]], dtype=float32)"
      ]
     },
     "execution_count": 47,
     "metadata": {},
     "output_type": "execute_result"
    }
   ],
   "source": [
    "yeke_massiwli_predict"
   ]
  },
  {
   "cell_type": "code",
   "execution_count": 56,
   "metadata": {},
   "outputs": [],
   "source": [
    "import numpy as np\n",
    "predict_last = yeke_massiwli_predict.argmax(axis=-1)\n",
    "esik_predict = np.array(class_names)[predict_last]"
   ]
  },
  {
   "cell_type": "code",
   "execution_count": 59,
   "metadata": {},
   "outputs": [
    {
     "data": {
      "text/plain": [
       "'Ankle boot'"
      ]
     },
     "execution_count": 59,
     "metadata": {},
     "output_type": "execute_result"
    }
   ],
   "source": [
    "esik_predict[0]"
   ]
  },
  {
   "cell_type": "code",
   "execution_count": null,
   "metadata": {},
   "outputs": [],
   "source": []
  }
 ],
 "metadata": {
  "colab": {
   "authorship_tag": "ABX9TyPqu6bayuxtw1zLd4gLVdmO",
   "provenance": []
  },
  "kernelspec": {
   "display_name": "Python 3 (ipykernel)",
   "language": "python",
   "name": "python3"
  },
  "language_info": {
   "codemirror_mode": {
    "name": "ipython",
    "version": 3
   },
   "file_extension": ".py",
   "mimetype": "text/x-python",
   "name": "python",
   "nbconvert_exporter": "python",
   "pygments_lexer": "ipython3",
   "version": "3.12.3"
  }
 },
 "nbformat": 4,
 "nbformat_minor": 4
}
